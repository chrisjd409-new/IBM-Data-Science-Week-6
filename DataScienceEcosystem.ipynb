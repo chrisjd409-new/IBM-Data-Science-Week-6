{
 "cells": [
  {
   "cell_type": "markdown",
   "id": "0e360a38-5244-41a7-8fcc-162a0dd7d2ac",
   "metadata": {},
   "source": [
    "# Data Science Tools and Ecosystem"
   ]
  },
  {
   "cell_type": "markdown",
   "id": "4dfd84e6-0ad7-4dcc-979d-64859aafb6cb",
   "metadata": {},
   "source": [
    "# In this notebook, Data Science Tools and Ecosystem are summarized."
   ]
  },
  {
   "cell_type": "markdown",
   "id": "d177e750-3b3e-42bb-857f-efeb09726be4",
   "metadata": {},
   "source": [
    "# Some of the popular languages that Data Scientist use are: \n",
    "\n",
    "1. Python\n",
    "2. R\n",
    "3. Julia"
   ]
  },
  {
   "cell_type": "markdown",
   "id": "9f356024-23b9-46d7-9820-d08f8473f92f",
   "metadata": {},
   "source": [
    "# Some of the commonly used libraries used by Data Scientists include: \n",
    "\n",
    "1. Pandas\n",
    "2. Scikit-Learn\n",
    "3. Matplotlib"
   ]
  }
 ],
 "metadata": {
  "kernelspec": {
   "display_name": "Python",
   "language": "python",
   "name": "conda-env-python-py"
  },
  "language_info": {
   "codemirror_mode": {
    "name": "ipython",
    "version": 3
   },
   "file_extension": ".py",
   "mimetype": "text/x-python",
   "name": "python",
   "nbconvert_exporter": "python",
   "pygments_lexer": "ipython3",
   "version": "3.7.12"
  }
 },
 "nbformat": 4,
 "nbformat_minor": 5
}
